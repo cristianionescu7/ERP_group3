{
 "cells": [
  {
   "cell_type": "code",
   "execution_count": 1,
   "metadata": {},
   "outputs": [],
   "source": [
    "import numpy as np\n",
    "import pandas as pd"
   ]
  },
  {
   "cell_type": "code",
   "execution_count": 2,
   "metadata": {},
   "outputs": [],
   "source": [
    "#spr_data = pd.read_csv('D:\\CSAI Y2\\S2\\ResWork\\spr_data\\dbc_spr_data_combined.csv')\n",
    "#data = pd.read_csv(\"D:\\CSAI Y2\\S2\\ResWork\\eeg_data\\data\\dbc_data.csv\")\n",
    "spr_data = open('D:\\CSAI Y2\\S2\\ResWork\\spr_data\\dbc_spr_data_combined.csv', 'r')\n",
    "data = open('D:\\CSAI Y2\\S2\\ResWork\\eeg_data\\data\\dbc_data.csv', 'r')\n",
    "electrodes = {'Fp1':[],'Fp2':[],'F7':[],'F3':[],'Fz':[],'F4':[],'F8':[],'FC5':[],'FC1':[],'FC2':[],'FC6':[],'T7':[],'C3':[],'Cz':[],'C4':[],'T8':[],'TP9':[],'CP5':[],'CP1':[],'CP2':[],'CP6':[],'TP10':[],'P7':[],'P3':[],'Pz':[],'P4':[],'P8':[],'PO9':[],'O1':[],'Oz':[],'O2':[],'PO10':[]}\n",
    "avarages =  {'Fp1':[],'Fp2':[],'F7':[],'F3':[],'Fz':[],'F4':[],'F8':[],'FC5':[],'FC1':[],'FC2':[],'FC6':[],'T7':[],'C3':[],'Cz':[],'C4':[],'T8':[],'TP9':[],'CP5':[],'CP1':[],'CP2':[],'CP6':[],'TP10':[],'P7':[],'P3':[],'Pz':[],'P4':[],'P8':[],'PO9':[],'O1':[],'Oz':[],'O2':[],'PO10':[]}\n"
   ]
  },
  {
   "cell_type": "code",
   "execution_count": 3,
   "metadata": {},
   "outputs": [],
   "source": [
    "#Save the values for electrodes in dictionary\n",
    "for line in data:\n",
    "    line1 = line.split(sep=',')\n",
    "    for i, el in zip(range(5, 37), electrodes.keys()):\n",
    "        electrodes[el].append(line1[i])\n",
    "#eliminate the header\n",
    "for el in electrodes.keys():\n",
    "    electrodes[el].pop(0)\n"
   ]
  },
  {
   "cell_type": "code",
   "execution_count": 5,
   "metadata": {},
   "outputs": [
    {
     "name": "stdout",
     "output_type": "stream",
     "text": [
      "<class 'str'>\n",
      "['-1.20971', '-0.83101', '-0.11259', '0.89073', '2.05291']\n"
     ]
    }
   ],
   "source": [
    "print(type(electrodes['Fp1'][0]))\n",
    "print(electrodes['Fp1'][:5])\n",
    "#convert to float\n",
    "for key in electrodes.keys():\n",
    "    electrodes[key] = [float(x) for x in electrodes[key]]\n",
    "        "
   ]
  },
  {
   "cell_type": "code",
   "execution_count": 6,
   "metadata": {},
   "outputs": [
    {
     "data": {
      "text/plain": [
       "{'Fp1': -0.05310859048392986,\n",
       " 'Fp2': 0.2718770229591897,\n",
       " 'F7': 0.4739086527210903,\n",
       " 'F3': 0.8584300532158233,\n",
       " 'Fz': 0.9760052670377233,\n",
       " 'F4': 0.8981730826762923,\n",
       " 'F8': -0.00890235936146882,\n",
       " 'FC5': 0.7833091127319093,\n",
       " 'FC1': 1.4234224100262434,\n",
       " 'FC2': 0.875951609840779,\n",
       " 'FC6': 0.46008143968769044,\n",
       " 'T7': 0.7198228696197088,\n",
       " 'C3': 0.9743223610622136,\n",
       " 'Cz': 1.1573413757112458,\n",
       " 'C4': 1.0664270036023475,\n",
       " 'T8': -0.027104529298083095,\n",
       " 'TP9': -0.818397348600777,\n",
       " 'CP5': 0.8979413112554142,\n",
       " 'CP1': 1.3363747745206653,\n",
       " 'CP2': 1.4031188761749551,\n",
       " 'CP6': 0.964616609570151,\n",
       " 'TP10': -0.6674093293521983,\n",
       " 'P7': -0.16842819519170188,\n",
       " 'P3': 1.4784557713975757,\n",
       " 'Pz': 1.8039131734925908,\n",
       " 'P4': 1.5727795646336864,\n",
       " 'P8': 0.9878751239332164,\n",
       " 'PO9': 0.9215345374613586,\n",
       " 'O1': 1.2220036146876843,\n",
       " 'Oz': 1.6918947176793908,\n",
       " 'O2': 1.7964585402674693,\n",
       " 'PO10': 1.069962982575769}"
      ]
     },
     "execution_count": 6,
     "metadata": {},
     "output_type": "execute_result"
    }
   ],
   "source": [
    "#avarage of each electrode\n",
    "for key, key1 in zip(electrodes.keys(), avarages.keys()):\n",
    "    avarages[key1] = sum(electrodes[key])/len(electrodes[key])\n",
    "avarages\n"
   ]
  },
  {
   "cell_type": "code",
   "execution_count": 7,
   "metadata": {},
   "outputs": [],
   "source": [
    "#Fp1,Fp2,F7,F3,Fz,F4,F8,FC5,FC1,FC2,FC6,T7,C3,Cz,C4,T8,TP9,CP5,CP1,CP2,CP6,TP10,P7,P3,Pz,P4,P8,PO9,O1,Oz,O2,PO10\n"
   ]
  }
 ],
 "metadata": {
  "kernelspec": {
   "display_name": "base",
   "language": "python",
   "name": "python3"
  },
  "language_info": {
   "codemirror_mode": {
    "name": "ipython",
    "version": 3
   },
   "file_extension": ".py",
   "mimetype": "text/x-python",
   "name": "python",
   "nbconvert_exporter": "python",
   "pygments_lexer": "ipython3",
   "version": "3.7.6"
  },
  "orig_nbformat": 4
 },
 "nbformat": 4,
 "nbformat_minor": 2
}
