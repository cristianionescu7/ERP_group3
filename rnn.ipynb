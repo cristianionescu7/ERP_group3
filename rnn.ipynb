{
 "cells": [
  {
   "cell_type": "code",
   "execution_count": 115,
   "metadata": {},
   "outputs": [],
   "source": [
    "import pandas as pd\n",
    "import numpy as np"
   ]
  },
  {
   "cell_type": "code",
   "execution_count": 133,
   "metadata": {},
   "outputs": [],
   "source": [
    "n400 = pd.read_csv(\"N400_by_trial.csv\")\n",
    "p600 = pd.read_csv(\"P600_by_trial.csv\")\n",
    "spr = pd.read_csv(\"SPR_by_trial.csv\")"
   ]
  },
  {
   "cell_type": "code",
   "execution_count": 169,
   "metadata": {},
   "outputs": [],
   "source": [
    "def extract_features(dataframe: pd.DataFrame, condition):\n",
    "    \"\"\"\n",
    "    Extracts features from a dataframe of ERPs / SRP's. \n",
    "    \n",
    "    Args:\n",
    "        dataframe: A dataframe of ERPs / SRP's.\n",
    "        condition: The condition to extract features from.\n",
    "    Returns:\n",
    "        A numpy array of features.\n",
    "    \"\"\"\n",
    "    \n",
    "    features = dataframe[dataframe[\"Condition\"] == condition]\n",
    "    features = features.drop([\"Condition\"], axis=1)\n",
    "    features = features.set_index(\"ItemNum\")\n",
    "    features = np.expand_dims(features.to_numpy(), axis=0)\n",
    "    return features\n",
    "\n",
    "n400_control = extract_features(n400, \"control\")\n",
    "n400_script_related = extract_features(n400, \"script-related\")\n",
    "n400_script_unrelated = extract_features(n400, \"script-unrelated\")\n",
    "\n",
    "p600_control = extract_features(p600, \"control\")\n",
    "p600_script_related = extract_features(p600, \"script-related\")\n",
    "p600_script_unrelated = extract_features(p600, \"script-unrelated\")\n",
    "\n",
    "spr_control = extract_features(spr, \"control\")\n",
    "spr_script_related = extract_features(spr, \"script-related\")\n",
    "spr_script_unrelated = extract_features(spr, \"script-unrelated\")"
   ]
  },
  {
   "attachments": {},
   "cell_type": "markdown",
   "metadata": {},
   "source": [
    "### Visualise data"
   ]
  },
  {
   "cell_type": "code",
   "execution_count": 175,
   "metadata": {},
   "outputs": [
    {
     "name": "stdout",
     "output_type": "stream",
     "text": [
      "ItemNum: 1\n",
      "ERP's (n400): \n",
      "[-1.79205279 -1.86712636 -1.70394696 -3.9231718  -4.74066061 -4.90966067\n",
      " -2.37030723 -1.98819744 -3.95095261 -3.93343971 -4.15195217 -2.20787836\n",
      " -3.72650287 -2.34174259  0.50864363 -1.46534323 -2.34354867 -2.66679243\n",
      " -0.31249529  0.80925981 -1.85934109 -1.26222229 -1.31437606 -1.49421967\n",
      " -0.46220971 -0.38511491]\n",
      "SPR: [432.36363636]\n"
     ]
    }
   ],
   "source": [
    "def print_item(item = 0):\n",
    "    print(f\"ItemNum: {item+1}\")\n",
    "    print(f\"ERP's (n400): \\n{n400_control[0][item]}\")\n",
    "    print(f\"SPR: {spr_control[0][item]}\")\n",
    "\n",
    "print_item(0)"
   ]
  },
  {
   "cell_type": "code",
   "execution_count": 200,
   "metadata": {},
   "outputs": [
    {
     "name": "stdout",
     "output_type": "stream",
     "text": [
      "(1, 90, 1)\n",
      "(1, 90, 26)\n",
      "(1, 90, 26)\n",
      "<class 'numpy.ndarray'>\n",
      "float64\n",
      "float64\n"
     ]
    }
   ],
   "source": [
    "# check data shape\n",
    "print(spr_control.shape)\n",
    "print(n400_control.shape)\n",
    "print(p600_control.shape)\n",
    "\n",
    "# check data type\n",
    "print(type(spr_control))\n",
    "print(n400_control.dtype)\n",
    "print(p600_control.dtype)"
   ]
  },
  {
   "attachments": {},
   "cell_type": "markdown",
   "metadata": {},
   "source": [
    "### Prepare data for training"
   ]
  },
  {
   "cell_type": "code",
   "execution_count": 153,
   "metadata": {},
   "outputs": [],
   "source": [
    "from sklearn.model_selection import train_test_split"
   ]
  },
  {
   "cell_type": "code",
   "execution_count": 220,
   "metadata": {},
   "outputs": [],
   "source": [
    "X = np.concatenate((n400_control, p600_control), axis=0)\n",
    "y = np.reshape(spr_control, (90, 1, 1))\n",
    "\n",
    "# reshape x to have 90 in first dimension\n",
    "X = np.reshape(X, (90, X.shape[0], 26))"
   ]
  },
  {
   "cell_type": "code",
   "execution_count": 221,
   "metadata": {},
   "outputs": [],
   "source": [
    "X_train, X_test, y_train, y_test = train_test_split(X, y, test_size=0.2, random_state=42)"
   ]
  },
  {
   "cell_type": "code",
   "execution_count": 222,
   "metadata": {},
   "outputs": [
    {
     "name": "stdout",
     "output_type": "stream",
     "text": [
      "X_train shape: (72, 2, 26)\n",
      "y_train shape: (72, 1, 1)\n"
     ]
    }
   ],
   "source": [
    "print(f\"X_train shape: {X_train.shape}\")\n",
    "print(f\"y_train shape: {y_train.shape}\")"
   ]
  },
  {
   "attachments": {},
   "cell_type": "markdown",
   "metadata": {},
   "source": [
    "### Construct RNN Model"
   ]
  },
  {
   "cell_type": "code",
   "execution_count": 99,
   "metadata": {},
   "outputs": [],
   "source": [
    "# from tensorflow import Sequential\n",
    "from keras import layers, Sequential"
   ]
  },
  {
   "cell_type": "code",
   "execution_count": 280,
   "metadata": {},
   "outputs": [
    {
     "name": "stdout",
     "output_type": "stream",
     "text": [
      "Model: \"sequential_22\"\n",
      "_________________________________________________________________\n",
      " Layer (type)                Output Shape              Param #   \n",
      "=================================================================\n",
      " lstm_31 (LSTM)              (None, 128)               79360     \n",
      "                                                                 \n",
      " reshape_6 (Reshape)         (None, 1, 128)            0         \n",
      "                                                                 \n",
      " lstm_32 (LSTM)              (None, 128)               131584    \n",
      "                                                                 \n",
      " dense_57 (Dense)            (None, 64)                8256      \n",
      "                                                                 \n",
      " dense_58 (Dense)            (None, 32)                2080      \n",
      "                                                                 \n",
      " dense_59 (Dense)            (None, 16)                528       \n",
      "                                                                 \n",
      " dense_60 (Dense)            (None, 1)                 17        \n",
      "                                                                 \n",
      "=================================================================\n",
      "Total params: 221,825\n",
      "Trainable params: 221,825\n",
      "Non-trainable params: 0\n",
      "_________________________________________________________________\n"
     ]
    }
   ],
   "source": [
    "# make an rnn model that takes in the n400 and p600 data and predicts the spr data\n",
    "\n",
    "model = Sequential()\n",
    "model.add(layers.Input(shape=(2, 26)))\n",
    "model.add(layers.LSTM(128, input_shape=(2, 26)))\n",
    "model.add(layers.Reshape((1, 128)))\n",
    "model.add(layers.LSTM(128, input_shape=(1, 128)))\n",
    "model.add(layers.Dense(64, activation=\"relu\"))\n",
    "model.add(layers.Dense(32, activation=\"relu\"))\n",
    "model.add(layers.Dense(16, activation=\"relu\"))\n",
    "model.add(layers.Dense(1, activation=\"relu\"))\n",
    "\n",
    "model.compile(optimizer=\"adam\", loss=\"mse\", metrics=['mae', 'mse'])\n",
    "\n",
    "model.summary()"
   ]
  },
  {
   "cell_type": "code",
   "execution_count": 284,
   "metadata": {},
   "outputs": [
    {
     "name": "stdout",
     "output_type": "stream",
     "text": [
      "Epoch 1/100\n",
      "3/3 [==============================] - 0s 15ms/step - loss: 2129.7720 - mae: 24.0836 - mse: 2129.7720\n",
      "Epoch 2/100\n",
      "3/3 [==============================] - 0s 13ms/step - loss: 1890.0201 - mae: 21.6467 - mse: 1890.0201\n",
      "Epoch 3/100\n",
      "3/3 [==============================] - 0s 15ms/step - loss: 1767.5062 - mae: 21.0714 - mse: 1767.5062\n",
      "Epoch 4/100\n",
      "3/3 [==============================] - 0s 14ms/step - loss: 1625.7152 - mae: 19.9435 - mse: 1625.7152\n",
      "Epoch 5/100\n",
      "3/3 [==============================] - 0s 15ms/step - loss: 1626.9552 - mae: 19.2155 - mse: 1626.9552\n",
      "Epoch 6/100\n",
      "3/3 [==============================] - 0s 15ms/step - loss: 1513.9044 - mae: 19.4648 - mse: 1513.9044\n",
      "Epoch 7/100\n",
      "3/3 [==============================] - 0s 15ms/step - loss: 1432.0804 - mae: 19.2577 - mse: 1432.0804\n",
      "Epoch 8/100\n",
      "3/3 [==============================] - 0s 14ms/step - loss: 1372.0643 - mae: 18.3278 - mse: 1372.0643\n",
      "Epoch 9/100\n",
      "3/3 [==============================] - 0s 17ms/step - loss: 1272.5100 - mae: 17.0394 - mse: 1272.5100\n",
      "Epoch 10/100\n",
      "3/3 [==============================] - 0s 16ms/step - loss: 1178.2885 - mae: 15.5113 - mse: 1178.2885\n",
      "Epoch 11/100\n",
      "3/3 [==============================] - 0s 17ms/step - loss: 1172.3337 - mae: 16.5035 - mse: 1172.3337\n",
      "Epoch 12/100\n",
      "3/3 [==============================] - 0s 16ms/step - loss: 1087.0343 - mae: 14.3950 - mse: 1087.0343\n",
      "Epoch 13/100\n",
      "3/3 [==============================] - 0s 15ms/step - loss: 1099.1002 - mae: 15.5393 - mse: 1099.1002\n",
      "Epoch 14/100\n",
      "3/3 [==============================] - 0s 16ms/step - loss: 1068.5480 - mae: 14.9453 - mse: 1068.5480\n",
      "Epoch 15/100\n",
      "3/3 [==============================] - 0s 21ms/step - loss: 1052.9810 - mae: 15.7292 - mse: 1052.9810\n",
      "Epoch 16/100\n",
      "3/3 [==============================] - 0s 20ms/step - loss: 987.6150 - mae: 15.3492 - mse: 987.6150\n",
      "Epoch 17/100\n",
      "3/3 [==============================] - 0s 20ms/step - loss: 921.9888 - mae: 13.9734 - mse: 921.9888\n",
      "Epoch 18/100\n",
      "3/3 [==============================] - 0s 16ms/step - loss: 851.2482 - mae: 13.3942 - mse: 851.2482\n",
      "Epoch 19/100\n",
      "3/3 [==============================] - 0s 16ms/step - loss: 778.6006 - mae: 12.2771 - mse: 778.6006\n",
      "Epoch 20/100\n",
      "3/3 [==============================] - 0s 17ms/step - loss: 757.2742 - mae: 13.5428 - mse: 757.2742\n",
      "Epoch 21/100\n",
      "3/3 [==============================] - 0s 18ms/step - loss: 701.2339 - mae: 11.7988 - mse: 701.2339\n",
      "Epoch 22/100\n",
      "3/3 [==============================] - 0s 18ms/step - loss: 676.1658 - mae: 12.3389 - mse: 676.1658\n",
      "Epoch 23/100\n",
      "3/3 [==============================] - 0s 18ms/step - loss: 612.5504 - mae: 10.5490 - mse: 612.5504\n",
      "Epoch 24/100\n",
      "3/3 [==============================] - 0s 20ms/step - loss: 610.2822 - mae: 11.7749 - mse: 610.2822\n",
      "Epoch 25/100\n",
      "3/3 [==============================] - 0s 20ms/step - loss: 563.2054 - mae: 10.7409 - mse: 563.2054\n",
      "Epoch 26/100\n",
      "3/3 [==============================] - 0s 21ms/step - loss: 516.9341 - mae: 10.3114 - mse: 516.9341\n",
      "Epoch 27/100\n",
      "3/3 [==============================] - 0s 18ms/step - loss: 583.2965 - mae: 12.5949 - mse: 583.2965\n",
      "Epoch 28/100\n",
      "3/3 [==============================] - 0s 19ms/step - loss: 498.5054 - mae: 11.1416 - mse: 498.5054\n",
      "Epoch 29/100\n",
      "3/3 [==============================] - 0s 14ms/step - loss: 558.4427 - mae: 11.4956 - mse: 558.4427\n",
      "Epoch 30/100\n",
      "3/3 [==============================] - 0s 17ms/step - loss: 465.2666 - mae: 10.4511 - mse: 465.2666\n",
      "Epoch 31/100\n",
      "3/3 [==============================] - 0s 17ms/step - loss: 411.5963 - mae: 10.7238 - mse: 411.5963\n",
      "Epoch 32/100\n",
      "3/3 [==============================] - 0s 16ms/step - loss: 396.6090 - mae: 9.7292 - mse: 396.6090\n",
      "Epoch 33/100\n",
      "3/3 [==============================] - 0s 30ms/step - loss: 439.2112 - mae: 12.2721 - mse: 439.2112\n",
      "Epoch 34/100\n",
      "3/3 [==============================] - 0s 24ms/step - loss: 392.4406 - mae: 10.6576 - mse: 392.4406\n",
      "Epoch 35/100\n",
      "3/3 [==============================] - 0s 20ms/step - loss: 346.4072 - mae: 8.5664 - mse: 346.4072\n",
      "Epoch 36/100\n",
      "3/3 [==============================] - 0s 20ms/step - loss: 328.7218 - mae: 8.3483 - mse: 328.7218\n",
      "Epoch 37/100\n",
      "3/3 [==============================] - 0s 21ms/step - loss: 329.5398 - mae: 8.4028 - mse: 329.5398\n",
      "Epoch 38/100\n",
      "3/3 [==============================] - 0s 14ms/step - loss: 320.4886 - mae: 8.7935 - mse: 320.4886\n",
      "Epoch 39/100\n",
      "3/3 [==============================] - 0s 18ms/step - loss: 298.2038 - mae: 7.9058 - mse: 298.2038\n",
      "Epoch 40/100\n",
      "3/3 [==============================] - 0s 16ms/step - loss: 280.0716 - mae: 6.9501 - mse: 280.0716\n",
      "Epoch 41/100\n",
      "3/3 [==============================] - 0s 22ms/step - loss: 274.6249 - mae: 7.9665 - mse: 274.6249\n",
      "Epoch 42/100\n",
      "3/3 [==============================] - 0s 21ms/step - loss: 246.7025 - mae: 6.3258 - mse: 246.7025\n",
      "Epoch 43/100\n",
      "3/3 [==============================] - 0s 18ms/step - loss: 254.9755 - mae: 7.0796 - mse: 254.9755\n",
      "Epoch 44/100\n",
      "3/3 [==============================] - 0s 17ms/step - loss: 269.3842 - mae: 8.5210 - mse: 269.3842\n",
      "Epoch 45/100\n",
      "3/3 [==============================] - 0s 23ms/step - loss: 230.6799 - mae: 6.9693 - mse: 230.6799\n",
      "Epoch 46/100\n",
      "3/3 [==============================] - 0s 23ms/step - loss: 227.4478 - mae: 7.2049 - mse: 227.4478\n",
      "Epoch 47/100\n",
      "3/3 [==============================] - 0s 19ms/step - loss: 211.1438 - mae: 6.4538 - mse: 211.1438\n",
      "Epoch 48/100\n",
      "3/3 [==============================] - 0s 15ms/step - loss: 217.2144 - mae: 6.8468 - mse: 217.2144\n",
      "Epoch 49/100\n",
      "3/3 [==============================] - 0s 12ms/step - loss: 198.6004 - mae: 6.2483 - mse: 198.6004\n",
      "Epoch 50/100\n",
      "3/3 [==============================] - 0s 16ms/step - loss: 209.9528 - mae: 7.3320 - mse: 209.9528\n",
      "Epoch 51/100\n",
      "3/3 [==============================] - 0s 18ms/step - loss: 182.1208 - mae: 6.1266 - mse: 182.1208\n",
      "Epoch 52/100\n",
      "3/3 [==============================] - 0s 15ms/step - loss: 229.8963 - mae: 9.3301 - mse: 229.8963\n",
      "Epoch 53/100\n",
      "3/3 [==============================] - 0s 13ms/step - loss: 221.0852 - mae: 8.6996 - mse: 221.0852\n",
      "Epoch 54/100\n",
      "3/3 [==============================] - 0s 20ms/step - loss: 206.8259 - mae: 9.5017 - mse: 206.8259\n",
      "Epoch 55/100\n",
      "3/3 [==============================] - 0s 16ms/step - loss: 166.0925 - mae: 6.7754 - mse: 166.0925\n",
      "Epoch 56/100\n",
      "3/3 [==============================] - 0s 16ms/step - loss: 149.3284 - mae: 5.9724 - mse: 149.3284\n",
      "Epoch 57/100\n",
      "3/3 [==============================] - 0s 12ms/step - loss: 150.1584 - mae: 5.6808 - mse: 150.1584\n",
      "Epoch 58/100\n",
      "3/3 [==============================] - 0s 21ms/step - loss: 166.3967 - mae: 7.3907 - mse: 166.3967\n",
      "Epoch 59/100\n",
      "3/3 [==============================] - 0s 16ms/step - loss: 162.7699 - mae: 7.6426 - mse: 162.7699\n",
      "Epoch 60/100\n",
      "3/3 [==============================] - 0s 17ms/step - loss: 181.0596 - mae: 8.9051 - mse: 181.0596\n",
      "Epoch 61/100\n",
      "3/3 [==============================] - 0s 21ms/step - loss: 138.7741 - mae: 7.7124 - mse: 138.7741\n",
      "Epoch 62/100\n",
      "3/3 [==============================] - 0s 20ms/step - loss: 157.1007 - mae: 7.8783 - mse: 157.1007\n",
      "Epoch 63/100\n",
      "3/3 [==============================] - 0s 22ms/step - loss: 173.1667 - mae: 8.6829 - mse: 173.1667\n",
      "Epoch 64/100\n",
      "3/3 [==============================] - 0s 18ms/step - loss: 174.4160 - mae: 8.3522 - mse: 174.4160\n",
      "Epoch 65/100\n",
      "3/3 [==============================] - 0s 17ms/step - loss: 173.4921 - mae: 8.4911 - mse: 173.4921\n",
      "Epoch 66/100\n",
      "3/3 [==============================] - 0s 16ms/step - loss: 140.3941 - mae: 7.6726 - mse: 140.3941\n",
      "Epoch 67/100\n",
      "3/3 [==============================] - 0s 14ms/step - loss: 156.4946 - mae: 9.1800 - mse: 156.4946\n",
      "Epoch 68/100\n",
      "3/3 [==============================] - 0s 19ms/step - loss: 151.7089 - mae: 8.2150 - mse: 151.7089\n",
      "Epoch 69/100\n",
      "3/3 [==============================] - 0s 17ms/step - loss: 148.8920 - mae: 8.0336 - mse: 148.8920\n",
      "Epoch 70/100\n",
      "3/3 [==============================] - 0s 28ms/step - loss: 201.0314 - mae: 10.3106 - mse: 201.0314\n",
      "Epoch 71/100\n",
      "3/3 [==============================] - 0s 17ms/step - loss: 166.1685 - mae: 9.0859 - mse: 166.1685\n",
      "Epoch 72/100\n",
      "3/3 [==============================] - 0s 20ms/step - loss: 194.0332 - mae: 8.8773 - mse: 194.0332\n",
      "Epoch 73/100\n",
      "3/3 [==============================] - 0s 19ms/step - loss: 142.4915 - mae: 7.7547 - mse: 142.4915\n",
      "Epoch 74/100\n",
      "3/3 [==============================] - 0s 16ms/step - loss: 190.9291 - mae: 9.8279 - mse: 190.9291\n",
      "Epoch 75/100\n",
      "3/3 [==============================] - 0s 18ms/step - loss: 229.1137 - mae: 11.6462 - mse: 229.1137\n",
      "Epoch 76/100\n",
      "3/3 [==============================] - 0s 16ms/step - loss: 161.2674 - mae: 8.8276 - mse: 161.2674\n",
      "Epoch 77/100\n",
      "3/3 [==============================] - 0s 21ms/step - loss: 144.9786 - mae: 7.6796 - mse: 144.9786\n",
      "Epoch 78/100\n",
      "3/3 [==============================] - 0s 17ms/step - loss: 193.7676 - mae: 11.0601 - mse: 193.7676\n",
      "Epoch 79/100\n",
      "3/3 [==============================] - 0s 17ms/step - loss: 192.9996 - mae: 11.2248 - mse: 192.9996\n",
      "Epoch 80/100\n",
      "3/3 [==============================] - 0s 19ms/step - loss: 111.2621 - mae: 8.0499 - mse: 111.2621\n",
      "Epoch 81/100\n",
      "3/3 [==============================] - 0s 13ms/step - loss: 218.9886 - mae: 11.6261 - mse: 218.9886\n",
      "Epoch 82/100\n",
      "3/3 [==============================] - 0s 14ms/step - loss: 216.9295 - mae: 10.5068 - mse: 216.9295\n",
      "Epoch 83/100\n",
      "3/3 [==============================] - 0s 19ms/step - loss: 129.2352 - mae: 7.0135 - mse: 129.2352\n",
      "Epoch 84/100\n",
      "3/3 [==============================] - 0s 17ms/step - loss: 115.3840 - mae: 7.8512 - mse: 115.3840\n",
      "Epoch 85/100\n",
      "3/3 [==============================] - 0s 19ms/step - loss: 86.4507 - mae: 6.1689 - mse: 86.4507\n",
      "Epoch 86/100\n",
      "3/3 [==============================] - 0s 38ms/step - loss: 69.2745 - mae: 5.9937 - mse: 69.2745\n",
      "Epoch 87/100\n",
      "3/3 [==============================] - 0s 16ms/step - loss: 80.3527 - mae: 7.0335 - mse: 80.3527\n",
      "Epoch 88/100\n",
      "3/3 [==============================] - 0s 15ms/step - loss: 74.1784 - mae: 5.9049 - mse: 74.1784\n",
      "Epoch 89/100\n",
      "3/3 [==============================] - 0s 17ms/step - loss: 61.5601 - mae: 5.3839 - mse: 61.5601\n",
      "Epoch 90/100\n",
      "3/3 [==============================] - 0s 20ms/step - loss: 61.8708 - mae: 5.3759 - mse: 61.8708\n",
      "Epoch 91/100\n",
      "3/3 [==============================] - 0s 21ms/step - loss: 44.9194 - mae: 4.6103 - mse: 44.9194\n",
      "Epoch 92/100\n",
      "3/3 [==============================] - 0s 17ms/step - loss: 46.0791 - mae: 4.2380 - mse: 46.0791\n",
      "Epoch 93/100\n",
      "3/3 [==============================] - 0s 18ms/step - loss: 30.0142 - mae: 3.3269 - mse: 30.0142\n",
      "Epoch 94/100\n",
      "3/3 [==============================] - 0s 19ms/step - loss: 54.8932 - mae: 5.1038 - mse: 54.8932\n",
      "Epoch 95/100\n",
      "3/3 [==============================] - 0s 20ms/step - loss: 34.8647 - mae: 4.0214 - mse: 34.8647\n",
      "Epoch 96/100\n",
      "3/3 [==============================] - 0s 19ms/step - loss: 38.9616 - mae: 4.2180 - mse: 38.9616\n",
      "Epoch 97/100\n",
      "3/3 [==============================] - 0s 17ms/step - loss: 26.9051 - mae: 3.4515 - mse: 26.9051\n",
      "Epoch 98/100\n",
      "3/3 [==============================] - 0s 17ms/step - loss: 24.8391 - mae: 3.3676 - mse: 24.8391\n",
      "Epoch 99/100\n",
      "3/3 [==============================] - 0s 17ms/step - loss: 22.8916 - mae: 3.4087 - mse: 22.8916\n",
      "Epoch 100/100\n",
      "3/3 [==============================] - 0s 23ms/step - loss: 23.0902 - mae: 2.7553 - mse: 23.0902\n"
     ]
    },
    {
     "data": {
      "text/plain": [
       "<keras.callbacks.History at 0x27be2abad90>"
      ]
     },
     "execution_count": 284,
     "metadata": {},
     "output_type": "execute_result"
    }
   ],
   "source": [
    "model.fit(X_train, y_train, epochs=100, batch_size=32)"
   ]
  },
  {
   "attachments": {},
   "cell_type": "markdown",
   "metadata": {},
   "source": [
    "### Test model"
   ]
  },
  {
   "cell_type": "code",
   "execution_count": 244,
   "metadata": {},
   "outputs": [],
   "source": [
    "from sklearn.metrics import mean_squared_error"
   ]
  },
  {
   "cell_type": "code",
   "execution_count": 285,
   "metadata": {},
   "outputs": [
    {
     "name": "stdout",
     "output_type": "stream",
     "text": [
      "1/1 [==============================] - 0s 56ms/step\n",
      "\n",
      "MSE: 24788.251399538858\n",
      "\n",
      "First 5 predictions: \n",
      "pred: 623.7996215820312 actual: 594.9\n",
      "pred: 387.26104736328125 actual: 427.8\n",
      "pred: 646.1466674804688 actual: 425.4\n",
      "pred: 342.8466796875 actual: 471.9\n",
      "pred: 463.86016845703125 actual: 432.3636363636364\n"
     ]
    }
   ],
   "source": [
    "pred = model.predict(X_test)\n",
    "\n",
    "# remove 1 dim from y_test to match pred\n",
    "y_test_ = np.squeeze(y_test, axis=1)\n",
    "pred = np.squeeze(pred, axis=1)\n",
    "\n",
    "mse = mean_squared_error(y_test_, pred)\n",
    "print(f\"\\nMSE: {mse}\")\n",
    "\n",
    "print(\"\\nFirst 5 predictions: \")\n",
    "for i in range(min(len(pred), 5)):\n",
    "    print(f\"pred: {pred[i]}\", end=\" \")\n",
    "    print(f\"actual: {y_test_[i]}\")"
   ]
  },
  {
   "cell_type": "code",
   "execution_count": null,
   "metadata": {},
   "outputs": [],
   "source": []
  }
 ],
 "metadata": {
  "kernelspec": {
   "display_name": "Python 3",
   "language": "python",
   "name": "python3"
  },
  "language_info": {
   "codemirror_mode": {
    "name": "ipython",
    "version": 3
   },
   "file_extension": ".py",
   "mimetype": "text/x-python",
   "name": "python",
   "nbconvert_exporter": "python",
   "pygments_lexer": "ipython3",
   "version": "3.9.13"
  },
  "orig_nbformat": 4
 },
 "nbformat": 4,
 "nbformat_minor": 2
}
