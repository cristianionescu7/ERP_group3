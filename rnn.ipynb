{
 "cells": [
  {
   "cell_type": "code",
   "execution_count": 115,
   "metadata": {},
   "outputs": [],
   "source": [
    "import pandas as pd\n",
    "import numpy as np"
   ]
  },
  {
   "cell_type": "code",
   "execution_count": 133,
   "metadata": {},
   "outputs": [],
   "source": [
    "n400 = pd.read_csv(\"N400_by_trial.csv\")\n",
    "p600 = pd.read_csv(\"P600_by_trial.csv\")\n",
    "spr = pd.read_csv(\"SPR_by_trial.csv\")"
   ]
  },
  {
   "cell_type": "code",
   "execution_count": 169,
   "metadata": {},
   "outputs": [],
   "source": [
    "def extract_features(dataframe: pd.DataFrame, condition):\n",
    "    \"\"\"\n",
    "    Extracts features from a dataframe of ERPs / SRP's. \n",
    "    \n",
    "    Args:\n",
    "        dataframe: A dataframe of ERPs / SRP's.\n",
    "        condition: The condition to extract features from.\n",
    "    Returns:\n",
    "        A numpy array of features.\n",
    "    \"\"\"\n",
    "    \n",
    "    features = dataframe[dataframe[\"Condition\"] == condition]\n",
    "    features = features.drop([\"Condition\"], axis=1)\n",
    "    features = features.set_index(\"ItemNum\")\n",
    "    features = np.expand_dims(features.to_numpy(), axis=0)\n",
    "    return features\n",
    "\n",
    "n400_control = extract_features(n400, \"control\")\n",
    "n400_script_related = extract_features(n400, \"script-related\")\n",
    "n400_script_unrelated = extract_features(n400, \"script-unrelated\")\n",
    "\n",
    "p600_control = extract_features(p600, \"control\")\n",
    "p600_script_related = extract_features(p600, \"script-related\")\n",
    "p600_script_unrelated = extract_features(p600, \"script-unrelated\")\n",
    "\n",
    "spr_control = extract_features(spr, \"control\")\n",
    "spr_script_related = extract_features(spr, \"script-related\")\n",
    "spr_script_unrelated = extract_features(spr, \"script-unrelated\")"
   ]
  },
  {
   "attachments": {},
   "cell_type": "markdown",
   "metadata": {},
   "source": [
    "### Visualise data"
   ]
  },
  {
   "cell_type": "code",
   "execution_count": 175,
   "metadata": {},
   "outputs": [
    {
     "name": "stdout",
     "output_type": "stream",
     "text": [
      "ItemNum: 1\n",
      "ERP's (n400): \n",
      "[-1.79205279 -1.86712636 -1.70394696 -3.9231718  -4.74066061 -4.90966067\n",
      " -2.37030723 -1.98819744 -3.95095261 -3.93343971 -4.15195217 -2.20787836\n",
      " -3.72650287 -2.34174259  0.50864363 -1.46534323 -2.34354867 -2.66679243\n",
      " -0.31249529  0.80925981 -1.85934109 -1.26222229 -1.31437606 -1.49421967\n",
      " -0.46220971 -0.38511491]\n",
      "SPR: [432.36363636]\n"
     ]
    }
   ],
   "source": [
    "def print_item(item = 0):\n",
    "    print(f\"ItemNum: {item+1}\")\n",
    "    print(f\"ERP's (n400): \\n{n400_control[0][item]}\")\n",
    "    print(f\"SPR: {spr_control[0][item]}\")\n",
    "\n",
    "print_item(0)"
   ]
  },
  {
   "cell_type": "code",
   "execution_count": 200,
   "metadata": {},
   "outputs": [
    {
     "name": "stdout",
     "output_type": "stream",
     "text": [
      "(1, 90, 1)\n",
      "(1, 90, 26)\n",
      "(1, 90, 26)\n",
      "<class 'numpy.ndarray'>\n",
      "float64\n",
      "float64\n"
     ]
    }
   ],
   "source": [
    "# check data shape\n",
    "print(spr_control.shape)\n",
    "print(n400_control.shape)\n",
    "print(p600_control.shape)\n",
    "\n",
    "# check data type\n",
    "print(type(spr_control))\n",
    "print(n400_control.dtype)\n",
    "print(p600_control.dtype)"
   ]
  },
  {
   "attachments": {},
   "cell_type": "markdown",
   "metadata": {},
   "source": [
    "### Prepare data for training"
   ]
  },
  {
   "cell_type": "code",
   "execution_count": 153,
   "metadata": {},
   "outputs": [],
   "source": [
    "from sklearn.model_selection import train_test_split"
   ]
  },
  {
   "cell_type": "code",
   "execution_count": 220,
   "metadata": {},
   "outputs": [],
   "source": [
    "X = np.concatenate((n400_control, p600_control), axis=0)\n",
    "y = np.reshape(spr_control, (90, 1, 1))\n",
    "\n",
    "# reshape x to have 90 in first dimension\n",
    "X = np.reshape(X, (90, X.shape[0], 26))"
   ]
  },
  {
   "cell_type": "code",
   "execution_count": 221,
   "metadata": {},
   "outputs": [],
   "source": [
    "X_train, X_test, y_train, y_test = train_test_split(X, y, test_size=0.2, random_state=42)"
   ]
  },
  {
   "cell_type": "code",
   "execution_count": 222,
   "metadata": {},
   "outputs": [
    {
     "name": "stdout",
     "output_type": "stream",
     "text": [
      "X_train shape: (72, 2, 26)\n",
      "y_train shape: (72, 1, 1)\n"
     ]
    }
   ],
   "source": [
    "print(f\"X_train shape: {X_train.shape}\")\n",
    "print(f\"y_train shape: {y_train.shape}\")"
   ]
  },
  {
   "attachments": {},
   "cell_type": "markdown",
   "metadata": {},
   "source": [
    "### Construct RNN Model"
   ]
  },
  {
   "cell_type": "code",
   "execution_count": 99,
   "metadata": {},
   "outputs": [],
   "source": [
    "# from tensorflow import Sequential\n",
    "from keras import layers, Sequential"
   ]
  },
  {
   "cell_type": "code",
   "execution_count": 229,
   "metadata": {},
   "outputs": [
    {
     "name": "stdout",
     "output_type": "stream",
     "text": [
      "Model: \"sequential_11\"\n",
      "_________________________________________________________________\n",
      " Layer (type)                Output Shape              Param #   \n",
      "=================================================================\n",
      " lstm_11 (LSTM)              (None, 64)                23296     \n",
      "                                                                 \n",
      " dense_28 (Dense)            (None, 64)                4160      \n",
      "                                                                 \n",
      " dense_29 (Dense)            (None, 32)                2080      \n",
      "                                                                 \n",
      " dense_30 (Dense)            (None, 16)                528       \n",
      "                                                                 \n",
      " dense_31 (Dense)            (None, 1)                 17        \n",
      "                                                                 \n",
      "=================================================================\n",
      "Total params: 30,081\n",
      "Trainable params: 30,081\n",
      "Non-trainable params: 0\n",
      "_________________________________________________________________\n"
     ]
    }
   ],
   "source": [
    "# make an rnn model that takes in the n400 and p600 data and predicts the spr data\n",
    "\n",
    "model = Sequential()\n",
    "model.add(layers.Input(shape=(2, 26)))\n",
    "model.add(layers.LSTM(64, input_shape=(2, 26)))\n",
    "model.add(layers.Dense(64, activation=\"relu\"))\n",
    "model.add(layers.Dense(32, activation=\"relu\"))\n",
    "model.add(layers.Dense(16, activation=\"relu\"))\n",
    "model.add(layers.Dense(1, activation=\"relu\"))\n",
    "\n",
    "model.compile(optimizer=\"adam\", loss=\"mse\", metrics=[\"accuracy\"])\n",
    "\n",
    "model.summary()"
   ]
  },
  {
   "cell_type": "code",
   "execution_count": 264,
   "metadata": {},
   "outputs": [
    {
     "name": "stdout",
     "output_type": "stream",
     "text": [
      "Epoch 1/50\n",
      "3/3 [==============================] - 0s 12ms/step - loss: 4.9134 - accuracy: 0.0000e+00\n",
      "Epoch 2/50\n",
      "3/3 [==============================] - 0s 11ms/step - loss: 4.7497 - accuracy: 0.0000e+00\n",
      "Epoch 3/50\n",
      "3/3 [==============================] - 0s 9ms/step - loss: 4.6845 - accuracy: 0.0000e+00\n",
      "Epoch 4/50\n",
      "3/3 [==============================] - 0s 11ms/step - loss: 4.6209 - accuracy: 0.0000e+00\n",
      "Epoch 5/50\n",
      "3/3 [==============================] - 0s 10ms/step - loss: 4.4593 - accuracy: 0.0000e+00\n",
      "Epoch 6/50\n",
      "3/3 [==============================] - 0s 12ms/step - loss: 4.2653 - accuracy: 0.0000e+00\n",
      "Epoch 7/50\n",
      "3/3 [==============================] - 0s 15ms/step - loss: 4.1458 - accuracy: 0.0000e+00\n",
      "Epoch 8/50\n",
      "3/3 [==============================] - 0s 12ms/step - loss: 4.1151 - accuracy: 0.0000e+00\n",
      "Epoch 9/50\n",
      "3/3 [==============================] - 0s 20ms/step - loss: 3.9968 - accuracy: 0.0000e+00\n",
      "Epoch 10/50\n",
      "3/3 [==============================] - 0s 36ms/step - loss: 3.8722 - accuracy: 0.0000e+00\n",
      "Epoch 11/50\n",
      "3/3 [==============================] - 0s 11ms/step - loss: 3.7226 - accuracy: 0.0000e+00\n",
      "Epoch 12/50\n",
      "3/3 [==============================] - 0s 12ms/step - loss: 3.6129 - accuracy: 0.0000e+00\n",
      "Epoch 13/50\n",
      "3/3 [==============================] - 0s 13ms/step - loss: 3.5063 - accuracy: 0.0000e+00\n",
      "Epoch 14/50\n",
      "3/3 [==============================] - 0s 24ms/step - loss: 3.3763 - accuracy: 0.0000e+00\n",
      "Epoch 15/50\n",
      "3/3 [==============================] - 0s 15ms/step - loss: 3.2522 - accuracy: 0.0000e+00\n",
      "Epoch 16/50\n",
      "3/3 [==============================] - 0s 14ms/step - loss: 3.1943 - accuracy: 0.0000e+00\n",
      "Epoch 17/50\n",
      "3/3 [==============================] - 0s 10ms/step - loss: 3.1479 - accuracy: 0.0000e+00\n",
      "Epoch 18/50\n",
      "3/3 [==============================] - 0s 16ms/step - loss: 3.0453 - accuracy: 0.0000e+00\n",
      "Epoch 19/50\n",
      "3/3 [==============================] - 0s 15ms/step - loss: 2.9729 - accuracy: 0.0000e+00\n",
      "Epoch 20/50\n",
      "3/3 [==============================] - 0s 12ms/step - loss: 2.8319 - accuracy: 0.0000e+00\n",
      "Epoch 21/50\n",
      "3/3 [==============================] - 0s 19ms/step - loss: 2.7269 - accuracy: 0.0000e+00\n",
      "Epoch 22/50\n",
      "3/3 [==============================] - 0s 16ms/step - loss: 2.6988 - accuracy: 0.0000e+00\n",
      "Epoch 23/50\n",
      "3/3 [==============================] - 0s 15ms/step - loss: 2.5813 - accuracy: 0.0000e+00\n",
      "Epoch 24/50\n",
      "3/3 [==============================] - 0s 14ms/step - loss: 2.4919 - accuracy: 0.0000e+00\n",
      "Epoch 25/50\n",
      "3/3 [==============================] - 0s 16ms/step - loss: 2.4277 - accuracy: 0.0000e+00\n",
      "Epoch 26/50\n",
      "3/3 [==============================] - 0s 12ms/step - loss: 2.4281 - accuracy: 0.0000e+00\n",
      "Epoch 27/50\n",
      "3/3 [==============================] - 0s 16ms/step - loss: 2.3299 - accuracy: 0.0000e+00\n",
      "Epoch 28/50\n",
      "3/3 [==============================] - 0s 16ms/step - loss: 2.2354 - accuracy: 0.0000e+00\n",
      "Epoch 29/50\n",
      "3/3 [==============================] - 0s 16ms/step - loss: 2.1480 - accuracy: 0.0000e+00\n",
      "Epoch 30/50\n",
      "3/3 [==============================] - 0s 16ms/step - loss: 2.1251 - accuracy: 0.0000e+00\n",
      "Epoch 31/50\n",
      "3/3 [==============================] - 0s 17ms/step - loss: 2.0443 - accuracy: 0.0000e+00\n",
      "Epoch 32/50\n",
      "3/3 [==============================] - 0s 15ms/step - loss: 1.9928 - accuracy: 0.0000e+00\n",
      "Epoch 33/50\n",
      "3/3 [==============================] - 0s 15ms/step - loss: 1.9361 - accuracy: 0.0000e+00\n",
      "Epoch 34/50\n",
      "3/3 [==============================] - 0s 18ms/step - loss: 1.8640 - accuracy: 0.0000e+00\n",
      "Epoch 35/50\n",
      "3/3 [==============================] - 0s 19ms/step - loss: 1.8258 - accuracy: 0.0000e+00\n",
      "Epoch 36/50\n",
      "3/3 [==============================] - 0s 13ms/step - loss: 1.7701 - accuracy: 0.0000e+00\n",
      "Epoch 37/50\n",
      "3/3 [==============================] - 0s 20ms/step - loss: 1.7472 - accuracy: 0.0000e+00\n",
      "Epoch 38/50\n",
      "3/3 [==============================] - 0s 10ms/step - loss: 1.7388 - accuracy: 0.0000e+00\n",
      "Epoch 39/50\n",
      "3/3 [==============================] - 0s 17ms/step - loss: 1.6474 - accuracy: 0.0000e+00\n",
      "Epoch 40/50\n",
      "3/3 [==============================] - 0s 14ms/step - loss: 1.5795 - accuracy: 0.0000e+00\n",
      "Epoch 41/50\n",
      "3/3 [==============================] - 0s 15ms/step - loss: 1.5160 - accuracy: 0.0000e+00\n",
      "Epoch 42/50\n",
      "3/3 [==============================] - 0s 16ms/step - loss: 1.4734 - accuracy: 0.0000e+00\n",
      "Epoch 43/50\n",
      "3/3 [==============================] - 0s 16ms/step - loss: 1.4256 - accuracy: 0.0000e+00\n",
      "Epoch 44/50\n",
      "3/3 [==============================] - 0s 11ms/step - loss: 1.3481 - accuracy: 0.0000e+00\n",
      "Epoch 45/50\n",
      "3/3 [==============================] - 0s 12ms/step - loss: 1.3283 - accuracy: 0.0000e+00\n",
      "Epoch 46/50\n",
      "3/3 [==============================] - 0s 20ms/step - loss: 1.3275 - accuracy: 0.0000e+00\n",
      "Epoch 47/50\n",
      "3/3 [==============================] - 0s 15ms/step - loss: 1.3298 - accuracy: 0.0000e+00\n",
      "Epoch 48/50\n",
      "3/3 [==============================] - 0s 13ms/step - loss: 1.2415 - accuracy: 0.0000e+00\n",
      "Epoch 49/50\n",
      "3/3 [==============================] - 0s 20ms/step - loss: 1.1807 - accuracy: 0.0000e+00\n",
      "Epoch 50/50\n",
      "3/3 [==============================] - 0s 20ms/step - loss: 1.1869 - accuracy: 0.0000e+00\n"
     ]
    },
    {
     "data": {
      "text/plain": [
       "<keras.callbacks.History at 0x27be556aee0>"
      ]
     },
     "execution_count": 264,
     "metadata": {},
     "output_type": "execute_result"
    }
   ],
   "source": [
    "model.fit(X_train, y_train, epochs=300, batch_size=32)"
   ]
  },
  {
   "attachments": {},
   "cell_type": "markdown",
   "metadata": {},
   "source": [
    "### Test model"
   ]
  },
  {
   "cell_type": "code",
   "execution_count": 244,
   "metadata": {},
   "outputs": [],
   "source": [
    "from sklearn.metrics import mean_squared_error"
   ]
  },
  {
   "cell_type": "code",
   "execution_count": 265,
   "metadata": {},
   "outputs": [
    {
     "name": "stdout",
     "output_type": "stream",
     "text": [
      "1/1 [==============================] - 0s 77ms/step\n",
      "\n",
      "MSE: 11880.073067788797\n",
      "\n",
      "First 5 predictions: \n",
      "pred: 564.1483764648438 actual: 594.9\n",
      "pred: 381.8934020996094 actual: 427.8\n",
      "pred: 537.6162109375 actual: 425.4\n",
      "pred: 319.4360046386719 actual: 471.9\n",
      "pred: 459.2679138183594 actual: 432.3636363636364\n"
     ]
    }
   ],
   "source": [
    "pred = model.predict(X_test)\n",
    "\n",
    "# remove 1 dim from y_test to match pred\n",
    "y_test_ = np.squeeze(y_test, axis=1)\n",
    "pred = np.squeeze(pred, axis=1)\n",
    "\n",
    "mse = mean_squared_error(y_test_, pred)\n",
    "print(f\"\\nMSE: {mse}\")\n",
    "\n",
    "print(\"\\nFirst 5 predictions: \")\n",
    "for i in range(min(len(pred), 5)):\n",
    "    print(f\"pred: {pred[i]}\", end=\" \")\n",
    "    print(f\"actual: {y_test_[i]}\")"
   ]
  }
 ],
 "metadata": {
  "kernelspec": {
   "display_name": "Python 3",
   "language": "python",
   "name": "python3"
  },
  "language_info": {
   "codemirror_mode": {
    "name": "ipython",
    "version": 3
   },
   "file_extension": ".py",
   "mimetype": "text/x-python",
   "name": "python",
   "nbconvert_exporter": "python",
   "pygments_lexer": "ipython3",
   "version": "3.9.13"
  },
  "orig_nbformat": 4
 },
 "nbformat": 4,
 "nbformat_minor": 2
}
